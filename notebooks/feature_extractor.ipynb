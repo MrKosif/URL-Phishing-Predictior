{
 "cells": [
  {
   "cell_type": "code",
   "execution_count": 1,
   "id": "42f39f80",
   "metadata": {},
   "outputs": [],
   "source": [
    "import numpy as np\n",
    "import pandas as pd\n",
    "import re\n",
    "import whois\n",
    "import time\n",
    "from tqdm.auto import tqdm"
   ]
  },
  {
   "cell_type": "code",
   "execution_count": 2,
   "id": "c3294fcf",
   "metadata": {},
   "outputs": [],
   "source": [
    "import sys \n",
    "sys.path.append('/Users/keremkosif/Desktop/playground/url_features/scripts')"
   ]
  },
  {
   "cell_type": "code",
   "execution_count": 3,
   "id": "32d3737c",
   "metadata": {},
   "outputs": [],
   "source": [
    "    from feature_functions import FeatureFunctions\n",
    "    from feature_extractor import FeatureExtractor\n",
    "    from external_functions import ExternalFunctions\n",
    "    from url_parser import UrlParser\n",
    "\n",
    "    from rank import Rank\n",
    "\n",
    "    ranker = Rank()\n",
    "    functions = FeatureFunctions()\n",
    "    future_e = FeatureExtractor()\n",
    "    ef = ExternalFunctions()\n",
    "    up = UrlParser()"
   ]
  },
  {
   "cell_type": "code",
   "execution_count": 4,
   "id": "7bf5752f",
   "metadata": {},
   "outputs": [],
   "source": [
    "hints = [\"porn\", \"secure\", \"update\", \"login\", \"signin\", \"bank\", \"confirm\", \"verify\"]"
   ]
  },
  {
   "cell_type": "code",
   "execution_count": 5,
   "id": "0c3875ee",
   "metadata": {},
   "outputs": [],
   "source": [
    "df_columns = ['has_ip', 'url_len', 'is_short', 'nb_semico', 'nb_dslash', 'nb_slash',\n",
    "              'nb_colon', 'nb_tilde', 'abn_sd', 'nb_sd', 'nb_dot', 'nb_at', 'nb_and',\n",
    "              'nb_equal', 'nb_excl', 'nb_uscore', 'nb_hyphens', 'd_ratio', 'domain_s',\n",
    "              'domain_e', 'count_https', 'nb_hint', 'Url', 'Google PageRank', 'cPR Score',\n",
    "              'Domain Authority', 'Page Authority', 'Trust Flow', 'Trust Metric',\n",
    "              'Citation Flow', 'Domain Validity', 'Global Rank', 'Alexa USA Rank',\n",
    "              'Alexa Reach Rank', 'Spam Score', 'External Backlinks', 'Referring Domains',\n",
    "              'EDU Backlinks', 'EDU Domains', 'GOV Backlinks', 'GOV Domains',\n",
    "              'PR Quality', 'Domain Age', 'HTTP Response Codes:', 'Google Directory listed',\n",
    "              'DMOZ.org listed', 'Canonical URL',\n",
    "              'Root IP', 'Title', 'Topic:', 'Topic Value', 'Indexed URLs', 'Crawled Flag']"
   ]
  },
  {
   "cell_type": "code",
   "execution_count": 59,
   "id": "845ceecb",
   "metadata": {},
   "outputs": [],
   "source": [
    "url_columns = ['has_ip', 'url_len', 'is_short', 'nb_semico', 'nb_dslash', 'nb_slash',\n",
    "              'nb_colon', 'nb_tilde', 'abn_sd', 'nb_sd', 'nb_dot', 'nb_at', 'nb_and',\n",
    "              'nb_equal', 'nb_excl', 'nb_uscore', 'nb_hyphens', 'd_ratio', 'domain_s',\n",
    "              'domain_e', 'count_https', 'nb_hint', \"Url\"]"
   ]
  },
  {
   "cell_type": "code",
   "execution_count": 6,
   "id": "249b2e63",
   "metadata": {},
   "outputs": [],
   "source": [
    "rank_columns = ['Google PageRank', 'cPR Score', 'Domain Authority', 'Page Authority', 'Trust Flow', 'Trust Metric',\n",
    "                'Citation Flow', 'Domain Validity', 'Global Rank', 'Alexa USA Rank', 'Alexa Reach Rank', 'Spam Score',\n",
    "                'External Backlinks', 'Referring Domains', 'EDU Backlinks', 'EDU Domains', 'GOV Backlinks', 'GOV Domains',\n",
    "                'PR Quality', 'Domain Age', 'HTTP Response Codes:', 'Google Directory listed', 'DMOZ.org listed', 'Canonical URL',\n",
    "                'Root IP', 'Title', 'Topic:', 'Topic Value', 'Indexed URLs', 'Crawled Flag']"
   ]
  },
  {
   "cell_type": "code",
   "execution_count": 7,
   "id": "7fd3a945",
   "metadata": {},
   "outputs": [],
   "source": [
    "full_functions = [functions.having_ip_address, functions.url_length, functions.shortening_service,\n",
    "                  functions.count_semicolumn,functions.count_double_slash, functions.count_slash,\n",
    "                  functions.count_colon ,functions.count_tilde,\n",
    "                  functions.abnormal_subdomain, functions.count_subdomain, functions.count_dots,\n",
    "                  functions.count_at,\n",
    "                  functions.count_and, functions.count_equal, functions.count_exclamation,\n",
    "                  functions.count_underscore, functions.count_hyphens,]"
   ]
  },
  {
   "cell_type": "code",
   "execution_count": 8,
   "id": "85bd6eb1",
   "metadata": {},
   "outputs": [],
   "source": [
    "base_functions = [functions.ratio_digits, ef.creation_date_len, ef.expiration_date_len,]\n",
    "                  #ef.whois_registered_domain, ef.registrant_country, ef.registrar]"
   ]
  },
  {
   "cell_type": "code",
   "execution_count": 9,
   "id": "62f2b4b2",
   "metadata": {},
   "outputs": [],
   "source": [
    "df = pd.read_csv(\"output/jotform_test.csv\")\n",
    "urls = df[\"url\"]\n",
    "#urls = [\"http://www.w3.org/1999/xhtml\", \"https://ci6.googleusercontent.com/proxy/Xfn_CiZC9oS3brrV1tfKidMDtE_DzzmoaetAsAxYoG1mnHCb4OfAyRle1JmoGdEfy3MulU1UygdYfi-fRQhLKY2GDYWps9u5v9xS9Lc=s0-d-e1-ft\",\n",
    "#        \"https://cheaptrade.pt/us/ups/\", \"https://bit.ly/3M0PkNm\"]"
   ]
  },
  {
   "cell_type": "code",
   "execution_count": 79,
   "id": "024b74c3",
   "metadata": {},
   "outputs": [
    {
     "data": {
      "text/html": [
       "<div>\n",
       "<style scoped>\n",
       "    .dataframe tbody tr th:only-of-type {\n",
       "        vertical-align: middle;\n",
       "    }\n",
       "\n",
       "    .dataframe tbody tr th {\n",
       "        vertical-align: top;\n",
       "    }\n",
       "\n",
       "    .dataframe thead th {\n",
       "        text-align: right;\n",
       "    }\n",
       "</style>\n",
       "<table border=\"1\" class=\"dataframe\">\n",
       "  <thead>\n",
       "    <tr style=\"text-align: right;\">\n",
       "      <th></th>\n",
       "      <th>url</th>\n",
       "      <th>label</th>\n",
       "    </tr>\n",
       "  </thead>\n",
       "  <tbody>\n",
       "    <tr>\n",
       "      <th>0</th>\n",
       "      <td>http://www.w3.org/1999/xhtml</td>\n",
       "      <td>1</td>\n",
       "    </tr>\n",
       "    <tr>\n",
       "      <th>1</th>\n",
       "      <td>https://ci6.googleusercontent.com/proxy/Xfn_Ci...</td>\n",
       "      <td>1</td>\n",
       "    </tr>\n",
       "    <tr>\n",
       "      <th>2</th>\n",
       "      <td>https://cheaptrade.pt/us/ups/</td>\n",
       "      <td>1</td>\n",
       "    </tr>\n",
       "    <tr>\n",
       "      <th>3</th>\n",
       "      <td>https://bit.ly/3M0PkNm</td>\n",
       "      <td>1</td>\n",
       "    </tr>\n",
       "    <tr>\n",
       "      <th>4</th>\n",
       "      <td>https://royaltextileofficial.com/new</td>\n",
       "      <td>1</td>\n",
       "    </tr>\n",
       "    <tr>\n",
       "      <th>...</th>\n",
       "      <td>...</td>\n",
       "      <td>...</td>\n",
       "    </tr>\n",
       "    <tr>\n",
       "      <th>1453</th>\n",
       "      <td>https://www.qube-learning.co.uk/hgv-bootcamp/</td>\n",
       "      <td>0</td>\n",
       "    </tr>\n",
       "    <tr>\n",
       "      <th>1454</th>\n",
       "      <td>https://www.posterpresentations.com/research/g...</td>\n",
       "      <td>0</td>\n",
       "    </tr>\n",
       "    <tr>\n",
       "      <th>1455</th>\n",
       "      <td>https://www.solinst.com</td>\n",
       "      <td>0</td>\n",
       "    </tr>\n",
       "    <tr>\n",
       "      <th>1456</th>\n",
       "      <td>https://sid.iisc.ac.in/careers/</td>\n",
       "      <td>0</td>\n",
       "    </tr>\n",
       "    <tr>\n",
       "      <th>1457</th>\n",
       "      <td>https://outlook.office.com/calendar/nso@liga.o...</td>\n",
       "      <td>0</td>\n",
       "    </tr>\n",
       "  </tbody>\n",
       "</table>\n",
       "<p>1458 rows × 2 columns</p>\n",
       "</div>"
      ],
      "text/plain": [
       "                                                    url  label\n",
       "0                          http://www.w3.org/1999/xhtml      1\n",
       "1     https://ci6.googleusercontent.com/proxy/Xfn_Ci...      1\n",
       "2                         https://cheaptrade.pt/us/ups/      1\n",
       "3                                https://bit.ly/3M0PkNm      1\n",
       "4                  https://royaltextileofficial.com/new      1\n",
       "...                                                 ...    ...\n",
       "1453      https://www.qube-learning.co.uk/hgv-bootcamp/      0\n",
       "1454  https://www.posterpresentations.com/research/g...      0\n",
       "1455                            https://www.solinst.com      0\n",
       "1456                    https://sid.iisc.ac.in/careers/      0\n",
       "1457  https://outlook.office.com/calendar/nso@liga.o...      0\n",
       "\n",
       "[1458 rows x 2 columns]"
      ]
     },
     "execution_count": 79,
     "metadata": {},
     "output_type": "execute_result"
    }
   ],
   "source": [
    "df"
   ]
  },
  {
   "cell_type": "code",
   "execution_count": 10,
   "id": "b068d03e",
   "metadata": {},
   "outputs": [
    {
     "data": {
      "application/vnd.jupyter.widget-view+json": {
       "model_id": "1b7204ae0d9b4718a655082d4516f030",
       "version_major": 2,
       "version_minor": 0
      },
      "text/plain": [
       "  0%|          | 0/1458 [00:00<?, ?it/s]"
      ]
     },
     "metadata": {},
     "output_type": "display_data"
    }
   ],
   "source": [
    "def url_features():\n",
    "    pbar = tqdm(total=len(urls))\n",
    "    df_list = []\n",
    "    \n",
    "    for i in range(len(urls)):\n",
    "        url = urls[i]\n",
    "        p_url = up.return_url_parts(url)\n",
    "        url_row = []\n",
    "\n",
    "        ### FUNCTION GROUP ONE FULL URL ###\n",
    "        for function in full_functions:\n",
    "            ex_f = lambda arg : function(arg)\n",
    "            result = ex_f(url)\n",
    "            url_row.append(result)\n",
    "\n",
    "        ### FUNCTION GROUP TWO DOMAIN ###\n",
    "        for function in base_functions:\n",
    "            ex_f = lambda arg : function(arg)\n",
    "            try:\n",
    "                result = ex_f(p_url[\"domain\"])\n",
    "            except:\n",
    "                result = \"unknown\"\n",
    "            url_row.append(result)\n",
    "\n",
    "        ### OTHER FUNCTIONS ###\n",
    "        url_row.append(functions.count_http_token(p_url[\"path\"]))\n",
    "        url_row.append(functions.phish_hints(url, hints))\n",
    "        url_row.append(functions.https_token(p_url[\"protocol\"]))\n",
    "\n",
    "        df_list.append(url_row)\n",
    "        pbar.update(1)\n",
    "        \n",
    "    return df_list\n",
    "\n",
    "url_f = url_features()"
   ]
  },
  {
   "cell_type": "code",
   "execution_count": 11,
   "id": "721da63a",
   "metadata": {},
   "outputs": [
    {
     "data": {
      "text/plain": [
       "'http://help'"
      ]
     },
     "execution_count": 11,
     "metadata": {},
     "output_type": "execute_result"
    }
   ],
   "source": [
    "df[\"url\"][629]"
   ]
  },
  {
   "cell_type": "code",
   "execution_count": 12,
   "id": "169eb6c5",
   "metadata": {
    "scrolled": false
   },
   "outputs": [
    {
     "data": {
      "application/vnd.jupyter.widget-view+json": {
       "model_id": "7733543aa6544f279b3e2b3b10cf7bb5",
       "version_major": 2,
       "version_minor": 0
      },
      "text/plain": [
       "  0%|          | 0/858 [00:00<?, ?it/s]"
      ]
     },
     "metadata": {},
     "output_type": "display_data"
    }
   ],
   "source": [
    "def rank_features():\n",
    "    to_begin = 600\n",
    "    input_size = len(urls)\n",
    "    pbar = tqdm(total=input_size-to_begin)\n",
    "    df_list = []\n",
    "\n",
    "    i = to_begin\n",
    "    trial = 0\n",
    "    while i < input_size:\n",
    "        url = df[\"url\"]\n",
    "        s_url = df[\"url\"][i]\n",
    "        try:\n",
    "            domain = ranker.return_url_parts(s_url)[\"domain\"]\n",
    "        except:\n",
    "            # This exeption occurs when urls are broken.\n",
    "            df_list.append([])\n",
    "            i += 1\n",
    "            pbar.update(1)\n",
    "            continue\n",
    "        try:\n",
    "            scraps = ranker.rank_datas(domain, trial)\n",
    "        except:\n",
    "            i += 1\n",
    "            pbar.update(1)\n",
    "            continue\n",
    "\n",
    "        if scraps == -1:\n",
    "            trial = 1\n",
    "            continue\n",
    "            \n",
    "        df_list.append(scraps)\n",
    "        i += 1\n",
    "        pbar.update(1)\n",
    "        trial = 0 \n",
    "        # 592\n",
    "        \n",
    "    pbar.close()\n",
    "    return df_list\n",
    "\n",
    "rank_f = rank_features()"
   ]
  },
  {
   "cell_type": "code",
   "execution_count": 33,
   "id": "47aad1fa",
   "metadata": {},
   "outputs": [],
   "source": [
    "c_rank = rank_f.copy()"
   ]
  },
  {
   "cell_type": "code",
   "execution_count": 37,
   "id": "7b3b2622",
   "metadata": {},
   "outputs": [],
   "source": [
    "tpc = [[], [], [], [], [], [], [], [], [], [], [], [], [], [], [], [], [], [], [], [], [], [], [], [], [], [], [], [], [], []]"
   ]
  },
  {
   "cell_type": "code",
   "execution_count": 38,
   "id": "8eb346be",
   "metadata": {},
   "outputs": [],
   "source": [
    "for i in range(len(c_rank)):\n",
    "    if c_rank[i] == []:\n",
    "        c_rank[i] == tpc"
   ]
  },
  {
   "cell_type": "code",
   "execution_count": 39,
   "id": "5c1b3bae",
   "metadata": {},
   "outputs": [],
   "source": [
    "df_1 = pd.read_csv(\"output/0-600.csv\")"
   ]
  },
  {
   "cell_type": "code",
   "execution_count": 41,
   "id": "f6ec55ad",
   "metadata": {},
   "outputs": [],
   "source": [
    "df_5 = pd.DataFrame(c_rank, columns=rank_columns)"
   ]
  },
  {
   "cell_type": "code",
   "execution_count": 54,
   "id": "b8eb79ad",
   "metadata": {},
   "outputs": [],
   "source": [
    "df_son = pd.concat([df_1, df_5], axis=0)"
   ]
  },
  {
   "cell_type": "code",
   "execution_count": 60,
   "id": "2b12cf41",
   "metadata": {},
   "outputs": [],
   "source": [
    "df_ur = pd.DataFrame(url_f, columns=url_columns)"
   ]
  },
  {
   "cell_type": "code",
   "execution_count": 64,
   "id": "7643250f",
   "metadata": {},
   "outputs": [],
   "source": [
    "del df_ur[\"Url\"]"
   ]
  },
  {
   "cell_type": "code",
   "execution_count": 69,
   "id": "280d1277",
   "metadata": {},
   "outputs": [],
   "source": [
    "#df_final = pd.concat([df_son, df_ur], axis=1)"
   ]
  },
  {
   "cell_type": "code",
   "execution_count": 67,
   "id": "2455cb06",
   "metadata": {},
   "outputs": [
    {
     "data": {
      "text/plain": [
       "(1458, 30)"
      ]
     },
     "execution_count": 67,
     "metadata": {},
     "output_type": "execute_result"
    }
   ],
   "source": [
    "df_son.shape"
   ]
  },
  {
   "cell_type": "code",
   "execution_count": 68,
   "id": "32362fe9",
   "metadata": {},
   "outputs": [
    {
     "data": {
      "text/plain": [
       "(1458, 22)"
      ]
     },
     "execution_count": 68,
     "metadata": {},
     "output_type": "execute_result"
    }
   ],
   "source": [
    "df_ur.shape"
   ]
  },
  {
   "cell_type": "code",
   "execution_count": null,
   "id": "1869fada",
   "metadata": {},
   "outputs": [],
   "source": [
    "#df_6 = pd.DataFrame(url_f, columns=rank_columns)"
   ]
  },
  {
   "cell_type": "code",
   "execution_count": 73,
   "id": "785230a9",
   "metadata": {
    "scrolled": true
   },
   "outputs": [
    {
     "data": {
      "text/plain": [
       "array([['9/10', '9.2/10', '94', ..., '94', '213,213,908', 'False'],\n",
       "       ['8/10', '8.6/10', '97', ..., '17', '5,341', 'False'],\n",
       "       ['2/10', '2.1/10', '11', ..., '0', '1,788,596', 'False'],\n",
       "       ...,\n",
       "       ['4/10', '4.3/10', '37', ..., '15', '1,126', 'False'],\n",
       "       ['5/10', '5.8/10', '63', ..., '11', '1,526', 'False'],\n",
       "       ['8/10', '9.0/10', '94', ..., '60', '345,845,742', 'False']],\n",
       "      dtype=object)"
      ]
     },
     "execution_count": 73,
     "metadata": {},
     "output_type": "execute_result"
    }
   ],
   "source": [
    "df_son.to_numpy()"
   ]
  },
  {
   "cell_type": "code",
   "execution_count": 74,
   "id": "1a0c0372",
   "metadata": {},
   "outputs": [],
   "source": [
    "arr1 = np.array(url_f)\n",
    "arr2 = df_son.to_numpy()\n",
    "df_array = np.concatenate((arr1,arr2),axis=1)"
   ]
  },
  {
   "cell_type": "code",
   "execution_count": 77,
   "id": "8c8a2fc2",
   "metadata": {},
   "outputs": [],
   "source": [
    "final_df = pd.DataFrame(df_array, columns=df_columns)"
   ]
  },
  {
   "cell_type": "code",
   "execution_count": 78,
   "id": "edd3bc28",
   "metadata": {},
   "outputs": [],
   "source": [
    "final_df.to_csv(\"output/features.csv\")"
   ]
  },
  {
   "cell_type": "code",
   "execution_count": 55,
   "id": "9425a7ee",
   "metadata": {},
   "outputs": [],
   "source": [
    "#arr1 = np.array(url_f)\n",
    "#arr2 = np.array(rank_f)\n",
    "#df_array = np.concatenate((arr1,arr2),axis=1)"
   ]
  },
  {
   "cell_type": "code",
   "execution_count": null,
   "id": "39a4c1b5",
   "metadata": {},
   "outputs": [],
   "source": [
    "#df = pd.DataFrame(df_array, columns=df_columns)"
   ]
  },
  {
   "cell_type": "code",
   "execution_count": null,
   "id": "d2b95dc0",
   "metadata": {},
   "outputs": [],
   "source": [
    "df = df.drop(['Topic:', \"Title\", \"Global Rank\", \"Alexa USA Rank\", \"Alexa Reach Rank\",\n",
    "              \"Domain Age\", \"HTTP Response Codes:\", \"Canonical URL\", \"Root IP\",\n",
    "              \"Trust Flow\", \"cPR Score\", \"Domain Authority\", \"Page Authority\",\"Referring Domains\",\n",
    "              'GOV Domains', 'GOV Backlinks', 'EDU Domains'], axis=1)"
   ]
  },
  {
   "cell_type": "code",
   "execution_count": 56,
   "id": "bd95ec65",
   "metadata": {},
   "outputs": [],
   "source": [
    "df_son.to_csv(\"output/features.csv\", index=False)"
   ]
  },
  {
   "cell_type": "code",
   "execution_count": null,
   "id": "85cc67ef",
   "metadata": {},
   "outputs": [],
   "source": []
  }
 ],
 "metadata": {
  "kernelspec": {
   "display_name": "Python 3 (ipykernel)",
   "language": "python",
   "name": "python3"
  },
  "language_info": {
   "codemirror_mode": {
    "name": "ipython",
    "version": 3
   },
   "file_extension": ".py",
   "mimetype": "text/x-python",
   "name": "python",
   "nbconvert_exporter": "python",
   "pygments_lexer": "ipython3",
   "version": "3.10.4"
  }
 },
 "nbformat": 4,
 "nbformat_minor": 5
}
